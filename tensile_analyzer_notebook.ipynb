{
 "cells": [
  {
   "cell_type": "markdown",
   "id": "33a538ea",
   "metadata": {},
   "source": [
    "# **Project: Automated Tensile Test Analyzer**"
   ]
  },
  {
   "cell_type": "markdown",
   "id": "d6bbd98b",
   "metadata": {},
   "source": [
    "## **Introduction** \n",
    "\n",
    "### **What This Project Does**\n",
    "This project is an **Automated Materials Tensile Testing Analyzer** that cleans, analyzes, and visualizes tensile test data. It includes an Excel + Python-powered dashboard that allows users to:\n",
    "- Upload raw force and elongation data from tensile tests\n",
    "- Automatically calculate key mechanical properties\n",
    "  - Yield Strength (MPa)\n",
    "  - Ultimate Tensile Strength (UTS - unit in MPa)\n",
    "  - Elastic Modulus (MPa)\n",
    "  - Engineering Stress (MPa) and Engineering Strain\n",
    "- Generate stress-strain curves and comparisons across materials\n",
    "- Simulate stress-strain data using known materials properties, when real data is unavailable\n",
    "\n",
    "### **Why It Matters**\n",
    "Tensile testing is one of the **most widely used tests** for understanding how materials behave under stress. However, analyzing test results can be:\n",
    "- Time-consuming\n",
    "- Error-prone\n",
    "- Difficult to scale without the right tools\n",
    "\n",
    "This project makes that process easier by providing an automated, interactive way to extract and visualize critical material behavior. It supports both **real test data** and **simulated data**, making it versatile for lab settings, educational use, or engaging decision-making.\n",
    "\n",
    "### **Who This Is For**\n",
    "This tool is designed for:\n",
    "- **Materials scientists and engineers** who work with mechanical testing\n",
    "- **Students and educators** in engineering that does tensile testing in labs for educational purposes\n",
    "- **Anyone** who wants to see how I apply data science and engineering concepts in a real-world scenario"
   ]
  },
  {
   "cell_type": "markdown",
   "id": "a16fa2b3",
   "metadata": {},
   "source": [
    "## **Imports + Scripts (Code Cell)**"
   ]
  },
  {
   "cell_type": "code",
   "execution_count": null,
   "id": "bc278391",
   "metadata": {},
   "outputs": [],
   "source": [
    "import pandas as pd\n",
    "import matplotlib.pyplot as plt\n",
    "from scripts.simulate_data import simulate_stress_strain\n",
    "from scripts.calculate_stress_strain import calculate_engineering_stress_strain\n",
    "from scripts.extract_properties import extract_properties\n",
    "from scripts.visualize import plot_stress_strain\n",
    "from scripts.material_selector import get_material_properties"
   ]
  },
  {
   "cell_type": "markdown",
   "id": "cea60b47",
   "metadata": {},
   "source": [
    "## **Project Steps using Python Scripts**"
   ]
  },
  {
   "cell_type": "markdown",
   "id": "22fcfbd4",
   "metadata": {},
   "source": [
    "### **1. Select Materials and Load Properties**\n",
    "\n",
    "Script: ```material_selector.py```\n",
    "\n",
    "This step allows the user to select a material (e.g., \"Nylon 6\", \"Titanium\") and load its:\n",
    "- Geometric parameters (e.g., cross-sectional area, gauge length)\n",
    "- Mechanical properties (e.g., elastic modulus, yield strain, strength coefficient K, strain hardening exponent n)\n",
    "\n",
    "**Purpose:** Set up all required inputs before simulation or analysis"
   ]
  },
  {
   "cell_type": "code",
   "execution_count": null,
   "id": "66cf5a0a",
   "metadata": {},
   "outputs": [],
   "source": [
    "# Load material properties from Excel file or define manually\n",
    "material = \"Nylon 6\"\n",
    "geometry_df = pd.read_excel(\"Tensile_Analyzer_MasterWorkbook.xlsx\", sheet_name=\"Geometry_Lookup\")\n",
    "properties_df = pd.read_excel(\"Tensile_Analyzer_MasterWorkbook.xlsx\", sheet_name=\"Material_Properties\")\n",
    "\n",
    "props = get_material_properties(material, geometry_df, properties_df)\n",
    "props"
   ]
  },
  {
   "cell_type": "markdown",
   "id": "8afd3282",
   "metadata": {},
   "source": [
    "### **2. Simulate Stress-Strain Data using Hollomon's Law**\n",
    "\n",
    "Script: ```simulate_data.py```\n",
    "\n",
    "WHen real data is not readily available, this script"
   ]
  },
  {
   "cell_type": "code",
   "execution_count": null,
   "id": "b4e2b4cd",
   "metadata": {},
   "outputs": [],
   "source": [
    "df_sim = simulate_stress_strain(\n",
    "    E=props[\"Elastic Modulus (MPa)\"],\n",
    "    sigma_y=props[\"Yield Strength (MPa)\"],\n",
    "    K=props[\"Strength Coefficient K (MPa)\"],\n",
    "    n=props[\"n (Strain Hardening Exponent)\"],\n",
    "    L_0=props[\"L_0 (mm)\"],\n",
    "    A_0=props[\"A_0 (mm²)\"]\n",
    ")\n",
    "\n",
    "df_sim.head()"
   ]
  },
  {
   "cell_type": "markdown",
   "id": "eafef921",
   "metadata": {},
   "source": [
    "### **3. Calculate Engineering Stress and Strain**"
   ]
  },
  {
   "cell_type": "code",
   "execution_count": null,
   "id": "75c1b3ea",
   "metadata": {},
   "outputs": [],
   "source": [
    "df_calc = calculate_engineering_stress_strain(\n",
    "    df_sim,\n",
    "    A_0=props[\"A_0 (mm²)\"],\n",
    "    L_0=props[\"L_0 (mm)\"]  \n",
    ")\n",
    "\n",
    "df_calc.head()"
   ]
  },
  {
   "cell_type": "markdown",
   "id": "3a5b8a4d",
   "metadata": {},
   "source": [
    "### **4. Visualize Stress-Strain Curve**"
   ]
  },
  {
   "cell_type": "code",
   "execution_count": null,
   "id": "7f485964",
   "metadata": {},
   "outputs": [],
   "source": [
    "plot_stress_strain(df_calc)"
   ]
  },
  {
   "cell_type": "markdown",
   "id": "a8b0feee",
   "metadata": {},
   "source": [
    "### **5. Extract Key Mechanical Properties**"
   ]
  },
  {
   "cell_type": "code",
   "execution_count": null,
   "id": "50ebeca0",
   "metadata": {},
   "outputs": [],
   "source": [
    "mechanical_props = extract_properties(df_calc)\n",
    "mechanical_props"
   ]
  },
  {
   "cell_type": "markdown",
   "id": "7055ae54",
   "metadata": {},
   "source": [
    "## **Conclusion**"
   ]
  },
  {
   "cell_type": "markdown",
   "id": "07a7aa25",
   "metadata": {},
   "source": [
    "This notebook shows how to automate tensile test data using simulated or real-world data.\n",
    "\n",
    "**Next Steps:**\n",
    "- Support experimental data upload\n",
    "- Add true stress/strain support\n",
    "- Improve material property fitting from real data"
   ]
  }
 ],
 "metadata": {
  "kernelspec": {
   "display_name": "Python 3",
   "language": "python",
   "name": "python3"
  },
  "language_info": {
   "name": "python",
   "version": "3.11.1"
  }
 },
 "nbformat": 4,
 "nbformat_minor": 5
}
